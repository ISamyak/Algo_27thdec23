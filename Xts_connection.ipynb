{
 "cells": [
  {
   "cell_type": "code",
   "execution_count": 11,
   "id": "34ee5269",
   "metadata": {},
   "outputs": [],
   "source": [
    "import pandas as pd"
   ]
  },
  {
   "cell_type": "code",
   "execution_count": 12,
   "id": "731427a9",
   "metadata": {},
   "outputs": [],
   "source": [
    "#pip install -r requirements.txt"
   ]
  },
  {
   "cell_type": "code",
   "execution_count": 14,
   "id": "186273d6",
   "metadata": {},
   "outputs": [],
   "source": [
    "\n"
   ]
  },
  {
   "cell_type": "markdown",
   "id": "1a8d3b28",
   "metadata": {},
   "source": [
    "Application Name :\tINV\n",
    "App Key :\t7dd103a44fac400d11d742\n",
    "App Secret :\tLwjy828$NJ\n",
    "\n",
    "Application Name :\tinvasset\n",
    "App Key :\tbc2d07c50722c74280d942\n",
    "App Secret :\tObgw320@cl\n"
   ]
  },
  {
   "cell_type": "code",
   "execution_count": 21,
   "id": "ea40fa67",
   "metadata": {},
   "outputs": [],
   "source": [
    "#Interactive order api\n",
    "API_KEY = \"7dd103a44fac400d11d742\"\n",
    "API_SECRET = \"Lwjy828$NJ\"\n",
    "source = \"WEBAPI\"\n",
    "XTS_API_BASE_URL = \"https://xts-api.trading\"\n"
   ]
  },
  {
   "cell_type": "code",
   "execution_count": 22,
   "id": "7a42dc32",
   "metadata": {},
   "outputs": [],
   "source": [
    "xt = XTSConnect(API_KEY, API_SECRET, source)"
   ]
  },
  {
   "cell_type": "code",
   "execution_count": 19,
   "id": "f4718781",
   "metadata": {},
   "outputs": [],
   "source": [
    "#market data \n",
    "#API_KEY = \"bc2d07c50722c74280d942\"\n",
    "#API_SECRET = \"Obgw320@cl\"\n",
    "#source = \"WEBAPI\"\n",
    "#XTS_API_BASE_URL = \"https://xts-api.trading\"\n",
    "#xt = XTSConnect(API_KEY, API_SECRET, source)"
   ]
  },
  {
   "cell_type": "code",
   "execution_count": 23,
   "id": "5cd08838",
   "metadata": {},
   "outputs": [
    {
     "data": {
      "text/plain": [
       "'data not found.'"
      ]
     },
     "execution_count": 23,
     "metadata": {},
     "output_type": "execute_result"
    }
   ],
   "source": [
    "response = xt.interactive_login()\n",
    "response"
   ]
  },
  {
   "cell_type": "code",
   "execution_count": 24,
   "id": "92f332e9",
   "metadata": {},
   "outputs": [
    {
     "ename": "TypeError",
     "evalue": "string indices must be integers",
     "output_type": "error",
     "traceback": [
      "\u001b[1;31m---------------------------------------------------------------------------\u001b[0m",
      "\u001b[1;31mTypeError\u001b[0m                                 Traceback (most recent call last)",
      "Cell \u001b[1;32mIn [24], line 1\u001b[0m\n\u001b[1;32m----> 1\u001b[0m set_interactiveToken \u001b[38;5;241m=\u001b[39m \u001b[43mresponse\u001b[49m\u001b[43m[\u001b[49m\u001b[38;5;124;43m'\u001b[39;49m\u001b[38;5;124;43mresult\u001b[39;49m\u001b[38;5;124;43m'\u001b[39;49m\u001b[43m]\u001b[49m[\u001b[38;5;124m'\u001b[39m\u001b[38;5;124mtoken\u001b[39m\u001b[38;5;124m'\u001b[39m]\n\u001b[0;32m      2\u001b[0m set_iuserID \u001b[38;5;241m=\u001b[39m response[\u001b[38;5;124m'\u001b[39m\u001b[38;5;124mresult\u001b[39m\u001b[38;5;124m'\u001b[39m][\u001b[38;5;124m'\u001b[39m\u001b[38;5;124muserID\u001b[39m\u001b[38;5;124m'\u001b[39m]\n\u001b[0;32m      3\u001b[0m \u001b[38;5;28mprint\u001b[39m(\u001b[38;5;124m\"\u001b[39m\u001b[38;5;124mLogin: \u001b[39m\u001b[38;5;124m\"\u001b[39m, response)\n",
      "\u001b[1;31mTypeError\u001b[0m: string indices must be integers"
     ]
    }
   ],
   "source": [
    "set_interactiveToken = response['result']['token']\n",
    "set_iuserID = response['result']['userID']\n",
    "print(\"Login: \", response)"
   ]
  },
  {
   "cell_type": "code",
   "execution_count": null,
   "id": "a24b3d60",
   "metadata": {},
   "outputs": [],
   "source": [
    "\"\"\"instruments list\"\"\"\n",
    "\tinstruments = [{'exchangeSegment': 1, 'exchangeInstrumentID': 2885},{'exchangeSegment': 1, 'exchangeInstrumentID': 22}]\n",
    "\n",
    "\t\"\"\"Send Subscription Request\"\"\"\n",
    "\tresponse = xt.send_subscription(\n",
    "    Instruments=instruments,\n",
    "    xtsMessageCode=1502)"
   ]
  },
  {
   "cell_type": "code",
   "execution_count": null,
   "id": "ec9ddc67",
   "metadata": {},
   "outputs": [],
   "source": [
    "\"\"\"instruments list\"\"\"\n",
    "\tinstruments = [\n",
    "\t\t{'exchangeSegment': 1, 'exchangeInstrumentID': 2885},\n",
    "\t\t{'exchangeSegment': 1, 'exchangeInstrumentID': 22}]\n",
    "\n",
    "\t\"\"\"Get Quote Request\"\"\"\n",
    "\tresponse = xt.get_quote(\n",
    "\t\tInstruments=instruments,\n",
    "\t\txtsMessageCode=1504,\n",
    "\t\tpublishFormat='JSON')"
   ]
  },
  {
   "cell_type": "code",
   "execution_count": null,
   "id": "992f7be7",
   "metadata": {},
   "outputs": [],
   "source": [
    "\"\"\"Place Order Request\"\"\"\n",
    "response = xt.place_order(\n",
    "    exchangeSegment=xt.EXCHANGE_NSECM,\n",
    "    exchangeInstrumentID=2885,\n",
    "    productType=xt.PRODUCT_MIS,\n",
    "    orderType=xt.ORDER_TYPE_MARKET,\n",
    "    orderSide=xt.TRANSACTION_TYPE_BUY,\n",
    "    timeInForce=xt.VALIDITY_DAY,\n",
    "    disclosedQuantity=0,\n",
    "    orderQuantity=10,\n",
    "    limitPrice=0,\n",
    "    stopPrice=0,\n",
    "    orderUniqueIdentifier=\"454845\")"
   ]
  },
  {
   "cell_type": "code",
   "execution_count": null,
   "id": "7eea6ce4",
   "metadata": {},
   "outputs": [],
   "source": [
    "  \"\"\"Cancel Orders Request\"\"\"\n",
    "    response = xt.cancel_order(\n",
    "        appOrderID=OrderID,\n",
    "        orderUniqueIdentifier='454845')"
   ]
  },
  {
   "cell_type": "code",
   "execution_count": null,
   "id": "16fbbd1c",
   "metadata": {},
   "outputs": [],
   "source": []
  },
  {
   "cell_type": "code",
   "execution_count": null,
   "id": "d5ece234",
   "metadata": {},
   "outputs": [],
   "source": []
  },
  {
   "cell_type": "code",
   "execution_count": null,
   "id": "e268fe24",
   "metadata": {},
   "outputs": [],
   "source": []
  },
  {
   "cell_type": "code",
   "execution_count": null,
   "id": "e165c08b",
   "metadata": {},
   "outputs": [],
   "source": []
  },
  {
   "cell_type": "code",
   "execution_count": null,
   "id": "527bfaa3",
   "metadata": {},
   "outputs": [],
   "source": []
  }
 ],
 "metadata": {
  "kernelspec": {
   "display_name": "Python 3 (ipykernel)",
   "language": "python",
   "name": "python3"
  },
  "language_info": {
   "codemirror_mode": {
    "name": "ipython",
    "version": 3
   },
   "file_extension": ".py",
   "mimetype": "text/x-python",
   "name": "python",
   "nbconvert_exporter": "python",
   "pygments_lexer": "ipython3",
   "version": "3.9.12"
  }
 },
 "nbformat": 4,
 "nbformat_minor": 5
}
